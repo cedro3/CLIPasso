{
  "nbformat": 4,
  "nbformat_minor": 0,
  "metadata": {
    "colab": {
      "name": "CLIPasso",
      "provenance": [],
      "collapsed_sections": [
        "rE1gTfztziNi"
      ],
      "include_colab_link": true
    },
    "kernelspec": {
      "name": "python3",
      "display_name": "Python 3"
    },
    "language_info": {
      "name": "python"
    },
    "accelerator": "GPU"
  },
  "cells": [
    {
      "cell_type": "markdown",
      "metadata": {
        "id": "view-in-github",
        "colab_type": "text"
      },
      "source": [
        "<a href=\"https://colab.research.google.com/github/cedro3/CLIPasso/blob/main/CLIPasso.ipynb\" target=\"_parent\"><img src=\"https://colab.research.google.com/assets/colab-badge.svg\" alt=\"Open In Colab\"/></a>"
      ]
    },
    {
      "cell_type": "code",
      "source": [
        "#@title セットアップ（数分くらい掛かります）\n",
        "\n",
        "# cudaバージョンセレクト（10.1）\n",
        "%cd /usr/local/\n",
        "!pwd\n",
        "!ls\n",
        "!rm -rf cuda\n",
        "!ln -s /usr/local/cuda-10.1 /usr/local/cuda\n",
        "!stat cuda\n",
        "!nvcc --version\n",
        "\n",
        "# githubからコードを取得\n",
        "%cd /content/\n",
        "!git clone https://github.com/cedro3/CLIPasso.git\n",
        "%cd CLIPasso\n",
        "\n",
        "# ライブラリー・インストール\n",
        "!pip install -r requirements.txt\n",
        "!pip install --upgrade gdown ###\n",
        "!pip install torch==1.7.1+cu101 torchvision==0.8.2+cu101 -f https://download.pytorch.org/whl/torch_stable.html\n",
        "\n",
        "%cd /content/CLIPasso\n",
        "!git pull\n",
        "\n",
        "# CLIP, diffvrのインストール\n",
        "%cd /content/CLIPasso\n",
        "!pip install git+https://github.com/openai/CLIP.git\n",
        "!git clone https://github.com/BachiLi/diffvg\n",
        "%cd diffvg\n",
        "!git submodule update --init --recursive\n",
        "!python setup.py install\n"
      ],
      "metadata": {
        "id": "b0mW2URSK_Nd"
      },
      "execution_count": null,
      "outputs": []
    },
    {
      "cell_type": "markdown",
      "source": [
        "![001.jpg](data:image/jpeg;base64,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)"
      ],
      "metadata": {
        "id": "oNvsRjqEHvW1"
      }
    },
    {
      "cell_type": "code",
      "source": [
        "#@title スケッチの作成\n",
        "%cd /content/CLIPasso\n",
        "!git pull\n",
        "\n",
        "%matplotlib inline\n",
        "target_image = \"camel.png\" #@param {\"type\": \"string\"}\n",
        "num_sketch =  3#@param {\"type\": \"integer\"}\n",
        "mask_object = 0 #@param {\"type\": \"integer\"}\n",
        "fix_scale = 0 #@param {\"type\": \"integer\"}\n",
        "num_strokes =  16#@param {\"type\": \"integer\"}\n",
        "\n",
        "%run run_object_sketching.py --target_file $target_image\\\n",
        "                             --num_sketches $num_sketch\\\n",
        "                             --mask_object $mask_object\\\n",
        "                             --fix_scale $fix_scale\\\n",
        "                             --num_strokes $num_strokes\\\n",
        "                             -colab\n"
      ],
      "metadata": {
        "id": "PP-Iltc1T8K7"
      },
      "execution_count": null,
      "outputs": []
    },
    {
      "cell_type": "code",
      "source": [
        "#@title 画像表示\n",
        "%run display_results.py --target_file $target_image"
      ],
      "metadata": {
        "id": "OkN968vgvupR"
      },
      "execution_count": null,
      "outputs": []
    },
    {
      "cell_type": "code",
      "source": [
        "#@title 動画表示\n",
        "\n",
        "import glob\n",
        "import cv2\n",
        "from function import *\n",
        "\n",
        "# imagesフォルダ・リセット\n",
        "reset_folder('images')\n",
        "\n",
        "# target_imageの高さ調整\n",
        "base = cv2.imread('target_images/'+target_image)\n",
        "height, width, c = base.shape\n",
        "width = int(width*448/height)\n",
        "base = cv2.resize(base, dsize=(width,448))\n",
        "\n",
        "# target_img + svg_to_png --> images\n",
        "files = sorted(glob.glob(f\"{cur_path}/svg_to_png/*.png\"))\n",
        "for i, file in enumerate(files):\n",
        "  img = cv2.imread(file)\n",
        "  concat_img = cv2.hconcat([base, img])\n",
        "  cv2.imwrite('images/'+str(i).zfill(6)+'.png', concat_img)\n",
        "\n",
        "# 動画の作成\n",
        "!ffmpeg -y -r 10 -i images/%6d.png -vcodec libx264 -pix_fmt yuv420p -loglevel error output.mp4\n",
        "\n",
        "# 動画の再生\n",
        "display_mp4('output.mp4')"
      ],
      "metadata": {
        "id": "sZJXgJL5v4LY"
      },
      "execution_count": null,
      "outputs": []
    }
  ]
}